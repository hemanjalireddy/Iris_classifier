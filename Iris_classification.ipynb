{
  "nbformat": 4,
  "nbformat_minor": 0,
  "metadata": {
    "colab": {
      "name": "Iris_classification.ipynb",
      "provenance": []
    },
    "kernelspec": {
      "name": "python3",
      "display_name": "Python 3"
    },
    "language_info": {
      "name": "python"
    }
  },
  "cells": [
    {
      "cell_type": "markdown",
      "source": [
        ""
      ],
      "metadata": {
        "id": "QRY7w1b_Vj2T"
      }
    },
    {
      "cell_type": "markdown",
      "source": [
        "#Iris Classification"
      ],
      "metadata": {
        "id": "ITzIjqKwVlUB"
      }
    },
    {
      "cell_type": "markdown",
      "source": [
        "## Import the relevant libraries"
      ],
      "metadata": {
        "id": "1KTL-La-Vpv3"
      }
    },
    {
      "cell_type": "code",
      "execution_count": 2,
      "metadata": {
        "id": "Qzomt4MiVf0R"
      },
      "outputs": [],
      "source": [
        "import pandas as pd\n",
        "import tensorflow as tf\n",
        "import matplotlib.pyplot as plt\n",
        "import numpy as np\n",
        "import os"
      ]
    },
    {
      "cell_type": "markdown",
      "source": [
        "## Data Preprocessing"
      ],
      "metadata": {
        "id": "18r5XA8CV6gO"
      }
    },
    {
      "cell_type": "markdown",
      "source": [
        "### 1) Load the data"
      ],
      "metadata": {
        "id": "r3untDhPV8zJ"
      }
    },
    {
      "cell_type": "code",
      "source": [
        "iris_data = pd.read_csv('/content/iris.csv')\n",
        "iris_data.head()\n",
        "np_iris = iris_data.to_numpy()"
      ],
      "metadata": {
        "id": "nqiYsO4_V0lU"
      },
      "execution_count": 12,
      "outputs": []
    },
    {
      "cell_type": "code",
      "source": [
        "iris_data.describe()"
      ],
      "metadata": {
        "id": "7CuCpMazWqs5"
      },
      "execution_count": null,
      "outputs": []
    },
    {
      "cell_type": "code",
      "source": [
        "iris_data.info()"
      ],
      "metadata": {
        "id": "1VJstOCBWuJ6"
      },
      "execution_count": null,
      "outputs": []
    },
    {
      "cell_type": "code",
      "source": [
        "iris_data['Species'].unique()"
      ],
      "metadata": {
        "id": "NGuFortXW0I2"
      },
      "execution_count": null,
      "outputs": []
    },
    {
      "cell_type": "markdown",
      "source": [
        "### Label encoding the categorical data"
      ],
      "metadata": {
        "id": "k769ULdHXFCy"
      }
    },
    {
      "cell_type": "code",
      "source": [
        "from sklearn import preprocessing\n",
        "label_encoder = preprocessing.LabelEncoder()\n",
        "iris_data['Species'] = label_encoder.fit_transform(\n",
        "                                iris_data['Species'])\n",
        "iris_data"
      ],
      "metadata": {
        "colab": {
          "base_uri": "https://localhost:8080/",
          "height": 424
        },
        "id": "DL95iEXNXRQp",
        "outputId": "c6517db8-20b2-44c8-9c23-6375627a1a86"
      },
      "execution_count": 22,
      "outputs": [
        {
          "output_type": "execute_result",
          "data": {
            "text/plain": [
              "     Sepal.Length  Sepal.Width  Petal.Length  Petal.Width  Species\n",
              "0             5.1          3.5           1.4          0.2        0\n",
              "1             4.9          3.0           1.4          0.2        0\n",
              "2             4.7          3.2           1.3          0.2        0\n",
              "3             4.6          3.1           1.5          0.2        0\n",
              "4             5.0          3.6           1.4          0.2        0\n",
              "..            ...          ...           ...          ...      ...\n",
              "145           6.7          3.0           5.2          2.3        2\n",
              "146           6.3          2.5           5.0          1.9        2\n",
              "147           6.5          3.0           5.2          2.0        2\n",
              "148           6.2          3.4           5.4          2.3        2\n",
              "149           5.9          3.0           5.1          1.8        2\n",
              "\n",
              "[150 rows x 5 columns]"
            ],
            "text/html": [
              "\n",
              "  <div id=\"df-95b3cf71-11a1-4b3a-abff-d67cba7c790f\">\n",
              "    <div class=\"colab-df-container\">\n",
              "      <div>\n",
              "<style scoped>\n",
              "    .dataframe tbody tr th:only-of-type {\n",
              "        vertical-align: middle;\n",
              "    }\n",
              "\n",
              "    .dataframe tbody tr th {\n",
              "        vertical-align: top;\n",
              "    }\n",
              "\n",
              "    .dataframe thead th {\n",
              "        text-align: right;\n",
              "    }\n",
              "</style>\n",
              "<table border=\"1\" class=\"dataframe\">\n",
              "  <thead>\n",
              "    <tr style=\"text-align: right;\">\n",
              "      <th></th>\n",
              "      <th>Sepal.Length</th>\n",
              "      <th>Sepal.Width</th>\n",
              "      <th>Petal.Length</th>\n",
              "      <th>Petal.Width</th>\n",
              "      <th>Species</th>\n",
              "    </tr>\n",
              "  </thead>\n",
              "  <tbody>\n",
              "    <tr>\n",
              "      <th>0</th>\n",
              "      <td>5.1</td>\n",
              "      <td>3.5</td>\n",
              "      <td>1.4</td>\n",
              "      <td>0.2</td>\n",
              "      <td>0</td>\n",
              "    </tr>\n",
              "    <tr>\n",
              "      <th>1</th>\n",
              "      <td>4.9</td>\n",
              "      <td>3.0</td>\n",
              "      <td>1.4</td>\n",
              "      <td>0.2</td>\n",
              "      <td>0</td>\n",
              "    </tr>\n",
              "    <tr>\n",
              "      <th>2</th>\n",
              "      <td>4.7</td>\n",
              "      <td>3.2</td>\n",
              "      <td>1.3</td>\n",
              "      <td>0.2</td>\n",
              "      <td>0</td>\n",
              "    </tr>\n",
              "    <tr>\n",
              "      <th>3</th>\n",
              "      <td>4.6</td>\n",
              "      <td>3.1</td>\n",
              "      <td>1.5</td>\n",
              "      <td>0.2</td>\n",
              "      <td>0</td>\n",
              "    </tr>\n",
              "    <tr>\n",
              "      <th>4</th>\n",
              "      <td>5.0</td>\n",
              "      <td>3.6</td>\n",
              "      <td>1.4</td>\n",
              "      <td>0.2</td>\n",
              "      <td>0</td>\n",
              "    </tr>\n",
              "    <tr>\n",
              "      <th>...</th>\n",
              "      <td>...</td>\n",
              "      <td>...</td>\n",
              "      <td>...</td>\n",
              "      <td>...</td>\n",
              "      <td>...</td>\n",
              "    </tr>\n",
              "    <tr>\n",
              "      <th>145</th>\n",
              "      <td>6.7</td>\n",
              "      <td>3.0</td>\n",
              "      <td>5.2</td>\n",
              "      <td>2.3</td>\n",
              "      <td>2</td>\n",
              "    </tr>\n",
              "    <tr>\n",
              "      <th>146</th>\n",
              "      <td>6.3</td>\n",
              "      <td>2.5</td>\n",
              "      <td>5.0</td>\n",
              "      <td>1.9</td>\n",
              "      <td>2</td>\n",
              "    </tr>\n",
              "    <tr>\n",
              "      <th>147</th>\n",
              "      <td>6.5</td>\n",
              "      <td>3.0</td>\n",
              "      <td>5.2</td>\n",
              "      <td>2.0</td>\n",
              "      <td>2</td>\n",
              "    </tr>\n",
              "    <tr>\n",
              "      <th>148</th>\n",
              "      <td>6.2</td>\n",
              "      <td>3.4</td>\n",
              "      <td>5.4</td>\n",
              "      <td>2.3</td>\n",
              "      <td>2</td>\n",
              "    </tr>\n",
              "    <tr>\n",
              "      <th>149</th>\n",
              "      <td>5.9</td>\n",
              "      <td>3.0</td>\n",
              "      <td>5.1</td>\n",
              "      <td>1.8</td>\n",
              "      <td>2</td>\n",
              "    </tr>\n",
              "  </tbody>\n",
              "</table>\n",
              "<p>150 rows × 5 columns</p>\n",
              "</div>\n",
              "      <button class=\"colab-df-convert\" onclick=\"convertToInteractive('df-95b3cf71-11a1-4b3a-abff-d67cba7c790f')\"\n",
              "              title=\"Convert this dataframe to an interactive table.\"\n",
              "              style=\"display:none;\">\n",
              "        \n",
              "  <svg xmlns=\"http://www.w3.org/2000/svg\" height=\"24px\"viewBox=\"0 0 24 24\"\n",
              "       width=\"24px\">\n",
              "    <path d=\"M0 0h24v24H0V0z\" fill=\"none\"/>\n",
              "    <path d=\"M18.56 5.44l.94 2.06.94-2.06 2.06-.94-2.06-.94-.94-2.06-.94 2.06-2.06.94zm-11 1L8.5 8.5l.94-2.06 2.06-.94-2.06-.94L8.5 2.5l-.94 2.06-2.06.94zm10 10l.94 2.06.94-2.06 2.06-.94-2.06-.94-.94-2.06-.94 2.06-2.06.94z\"/><path d=\"M17.41 7.96l-1.37-1.37c-.4-.4-.92-.59-1.43-.59-.52 0-1.04.2-1.43.59L10.3 9.45l-7.72 7.72c-.78.78-.78 2.05 0 2.83L4 21.41c.39.39.9.59 1.41.59.51 0 1.02-.2 1.41-.59l7.78-7.78 2.81-2.81c.8-.78.8-2.07 0-2.86zM5.41 20L4 18.59l7.72-7.72 1.47 1.35L5.41 20z\"/>\n",
              "  </svg>\n",
              "      </button>\n",
              "      \n",
              "  <style>\n",
              "    .colab-df-container {\n",
              "      display:flex;\n",
              "      flex-wrap:wrap;\n",
              "      gap: 12px;\n",
              "    }\n",
              "\n",
              "    .colab-df-convert {\n",
              "      background-color: #E8F0FE;\n",
              "      border: none;\n",
              "      border-radius: 50%;\n",
              "      cursor: pointer;\n",
              "      display: none;\n",
              "      fill: #1967D2;\n",
              "      height: 32px;\n",
              "      padding: 0 0 0 0;\n",
              "      width: 32px;\n",
              "    }\n",
              "\n",
              "    .colab-df-convert:hover {\n",
              "      background-color: #E2EBFA;\n",
              "      box-shadow: 0px 1px 2px rgba(60, 64, 67, 0.3), 0px 1px 3px 1px rgba(60, 64, 67, 0.15);\n",
              "      fill: #174EA6;\n",
              "    }\n",
              "\n",
              "    [theme=dark] .colab-df-convert {\n",
              "      background-color: #3B4455;\n",
              "      fill: #D2E3FC;\n",
              "    }\n",
              "\n",
              "    [theme=dark] .colab-df-convert:hover {\n",
              "      background-color: #434B5C;\n",
              "      box-shadow: 0px 1px 3px 1px rgba(0, 0, 0, 0.15);\n",
              "      filter: drop-shadow(0px 1px 2px rgba(0, 0, 0, 0.3));\n",
              "      fill: #FFFFFF;\n",
              "    }\n",
              "  </style>\n",
              "\n",
              "      <script>\n",
              "        const buttonEl =\n",
              "          document.querySelector('#df-95b3cf71-11a1-4b3a-abff-d67cba7c790f button.colab-df-convert');\n",
              "        buttonEl.style.display =\n",
              "          google.colab.kernel.accessAllowed ? 'block' : 'none';\n",
              "\n",
              "        async function convertToInteractive(key) {\n",
              "          const element = document.querySelector('#df-95b3cf71-11a1-4b3a-abff-d67cba7c790f');\n",
              "          const dataTable =\n",
              "            await google.colab.kernel.invokeFunction('convertToInteractive',\n",
              "                                                     [key], {});\n",
              "          if (!dataTable) return;\n",
              "\n",
              "          const docLinkHtml = 'Like what you see? Visit the ' +\n",
              "            '<a target=\"_blank\" href=https://colab.research.google.com/notebooks/data_table.ipynb>data table notebook</a>'\n",
              "            + ' to learn more about interactive tables.';\n",
              "          element.innerHTML = '';\n",
              "          dataTable['output_type'] = 'display_data';\n",
              "          await google.colab.output.renderOutput(dataTable, element);\n",
              "          const docLink = document.createElement('div');\n",
              "          docLink.innerHTML = docLinkHtml;\n",
              "          element.appendChild(docLink);\n",
              "        }\n",
              "      </script>\n",
              "    </div>\n",
              "  </div>\n",
              "  "
            ]
          },
          "metadata": {},
          "execution_count": 22
        }
      ]
    },
    {
      "cell_type": "markdown",
      "source": [
        "### One hot encoding targets"
      ],
      "metadata": {
        "id": "g3PX5eT8coA8"
      }
    },
    {
      "cell_type": "code",
      "source": [
        "y_data = tf.keras.utils.to_categorical(y_data,3)\n",
        "y_data"
      ],
      "metadata": {
        "colab": {
          "base_uri": "https://localhost:8080/"
        },
        "id": "NItm3eYjcrzN",
        "outputId": "674673a5-3c66-4a6b-c658-df487f9f93e4"
      },
      "execution_count": 31,
      "outputs": [
        {
          "output_type": "execute_result",
          "data": {
            "text/plain": [
              "array([[[0., 1., 0.],\n",
              "        [1., 0., 0.],\n",
              "        [1., 0., 0.]],\n",
              "\n",
              "       [[0., 1., 0.],\n",
              "        [1., 0., 0.],\n",
              "        [1., 0., 0.]],\n",
              "\n",
              "       [[0., 1., 0.],\n",
              "        [1., 0., 0.],\n",
              "        [1., 0., 0.]],\n",
              "\n",
              "       ...,\n",
              "\n",
              "       [[1., 0., 0.],\n",
              "        [1., 0., 0.],\n",
              "        [0., 1., 0.]],\n",
              "\n",
              "       [[1., 0., 0.],\n",
              "        [1., 0., 0.],\n",
              "        [0., 1., 0.]],\n",
              "\n",
              "       [[1., 0., 0.],\n",
              "        [1., 0., 0.],\n",
              "        [0., 1., 0.]]], dtype=float32)"
            ]
          },
          "metadata": {},
          "execution_count": 31
        }
      ]
    },
    {
      "cell_type": "markdown",
      "source": [
        "### Split into features and targets"
      ],
      "metadata": {
        "id": "O7hn6k1kXsz1"
      }
    },
    {
      "cell_type": "code",
      "source": [
        "x_data = iris_data.iloc[: , :-1]\n",
        "y_data = iris_data.iloc[: , -1]\n",
        "y_data"
      ],
      "metadata": {
        "colab": {
          "base_uri": "https://localhost:8080/"
        },
        "id": "e-JEmWEGXvxW",
        "outputId": "ec3158f0-a82f-472d-e166-8a15d8a75910"
      },
      "execution_count": 23,
      "outputs": [
        {
          "output_type": "execute_result",
          "data": {
            "text/plain": [
              "0      0\n",
              "1      0\n",
              "2      0\n",
              "3      0\n",
              "4      0\n",
              "      ..\n",
              "145    2\n",
              "146    2\n",
              "147    2\n",
              "148    2\n",
              "149    2\n",
              "Name: Species, Length: 150, dtype: int64"
            ]
          },
          "metadata": {},
          "execution_count": 23
        }
      ]
    },
    {
      "cell_type": "markdown",
      "source": [
        "## Splitting into train and test set"
      ],
      "metadata": {
        "id": "XAdGJnZnbXws"
      }
    },
    {
      "cell_type": "code",
      "source": [
        "from sklearn.model_selection import train_test_split\n",
        "x_train,x_test,y_train,y_test = train_test_split( x_data, y_data, test_size=0.10)"
      ],
      "metadata": {
        "id": "pLTHc8Mqbayb"
      },
      "execution_count": 24,
      "outputs": []
    },
    {
      "cell_type": "markdown",
      "source": [
        "## Feature Scaling"
      ],
      "metadata": {
        "id": "DtaoR-0ubKxs"
      }
    },
    {
      "cell_type": "code",
      "source": [
        "from sklearn.preprocessing import StandardScaler\n",
        "scaler = StandardScaler()\n",
        "x_train = scaler.fit_transform(x_train)\n",
        "x_test = scaler.transform(x_test)"
      ],
      "metadata": {
        "colab": {
          "base_uri": "https://localhost:8080/"
        },
        "id": "MZzIpldAbL72",
        "outputId": "7de485a2-f365-49d8-d211-0174d370a435"
      },
      "execution_count": 26,
      "outputs": [
        {
          "output_type": "stream",
          "name": "stderr",
          "text": [
            "/usr/local/lib/python3.7/dist-packages/sklearn/base.py:444: UserWarning: X has feature names, but StandardScaler was fitted without feature names\n",
            "  f\"X has feature names, but {self.__class__.__name__} was fitted without\"\n"
          ]
        }
      ]
    },
    {
      "cell_type": "code",
      "source": [
        "x_train"
      ],
      "metadata": {
        "colab": {
          "base_uri": "https://localhost:8080/"
        },
        "id": "tve5LHZocYbh",
        "outputId": "6239af6c-e01b-4772-ce8a-1d55a1ab1182"
      },
      "execution_count": 27,
      "outputs": [
        {
          "output_type": "execute_result",
          "data": {
            "text/plain": [
              "array([[ 0.83705448, -0.11913348,  0.83985478,  1.05830894],\n",
              "       [-0.13605514,  3.00812029, -1.26188601, -1.03696815],\n",
              "       [ 1.32360929,  0.10424179,  0.66944336,  0.40353485],\n",
              "       [ 1.9318028 , -0.56588402,  1.35108902,  0.92735412],\n",
              "       [ 0.22886097, -1.90613563,  0.15820912, -0.25123924],\n",
              "       [ 0.47213837, -0.34250875,  0.32862053,  0.14162521],\n",
              "       [ 2.2967189 , -0.11913348,  1.35108902,  1.45117339],\n",
              "       [ 0.22886097, -0.11913348,  0.61263956,  0.7963993 ],\n",
              "       [-0.37933255, -1.45938509,  0.04460151, -0.12028443],\n",
              "       [ 1.08033188,  0.55099233,  1.1238738 ,  1.71308302],\n",
              "       [ 1.08033188,  0.10424179,  0.55583575,  0.40353485],\n",
              "       [-0.98752606, -2.35288617, -0.12580991, -0.25123924],\n",
              "       [ 1.44524799,  0.32761706,  0.55583575,  0.27258003],\n",
              "       [ 1.68852539,  0.32761706,  1.29428522,  0.7963993 ],\n",
              "       [-1.71735827, -0.11913348, -1.37549362, -1.29887779],\n",
              "       [-1.10916476,  0.10424179, -1.26188601, -1.29887779],\n",
              "       [-1.10916476, -1.45938509, -0.23941752, -0.25123924],\n",
              "       [-0.50097125,  1.89124395, -1.1482784 , -1.03696815],\n",
              "       [ 1.08033188, -1.23600982,  1.18067761,  0.7963993 ],\n",
              "       [-0.25769384, -0.34250875, -0.0690061 ,  0.14162521],\n",
              "       [ 1.08033188, -0.11913348,  0.72624717,  0.66544448],\n",
              "       [-0.74424865,  0.7743676 , -1.31868981, -1.29887779],\n",
              "       [-0.37933255,  0.99774287, -1.37549362, -1.29887779],\n",
              "       [-1.47408087,  1.22111814, -1.54590503, -1.29887779],\n",
              "       [-0.13605514, -1.01263455, -0.12580991, -0.25123924],\n",
              "       [-1.47408087,  0.7743676 , -1.31868981, -1.16792297],\n",
              "       [-0.50097125,  1.89124395, -1.37549362, -1.03696815],\n",
              "       [-1.47408087,  0.32761706, -1.31868981, -1.29887779],\n",
              "       [-0.74424865,  2.33799449, -1.26188601, -1.4298326 ],\n",
              "       [-1.59571957, -1.68276036, -1.37549362, -1.16792297],\n",
              "       [ 0.35049967, -0.34250875,  0.55583575,  0.27258003],\n",
              "       [-0.50097125,  0.7743676 , -1.26188601, -1.03696815],\n",
              "       [-0.74424865,  0.99774287, -1.26188601, -1.29887779],\n",
              "       [-1.47408087,  0.10424179, -1.26188601, -1.29887779],\n",
              "       [ 0.71541577, -0.56588402,  1.06707   ,  1.18926375],\n",
              "       [ 0.59377707, -1.68276036,  0.38542434,  0.14162521],\n",
              "       [-0.50097125, -0.11913348,  0.44222814,  0.40353485],\n",
              "       [-0.01441644, -0.78925928,  0.78305097,  0.92735412],\n",
              "       [-0.37933255, -1.01263455,  0.38542434,  0.01067039],\n",
              "       [-0.86588735,  0.55099233, -1.1482784 , -0.90601333],\n",
              "       [ 1.08033188,  0.55099233,  1.1238738 ,  1.18926375],\n",
              "       [ 0.35049967, -0.11913348,  0.49903195,  0.27258003],\n",
              "       [-0.01441644, -0.78925928,  0.78305097,  0.92735412],\n",
              "       [-1.23080346, -0.11913348, -1.31868981, -1.4298326 ],\n",
              "       [ 1.20197058, -0.11913348,  1.01026619,  1.18926375],\n",
              "       [ 0.59377707, -0.56588402,  0.78305097,  0.40353485],\n",
              "       [-0.01441644,  2.11461922, -1.43229742, -1.29887779],\n",
              "       [ 2.2967189 ,  1.66786868,  1.69191185,  1.32021857],\n",
              "       [-0.37933255, -1.45938509, -0.0122023 , -0.25123924],\n",
              "       [-0.86588735,  1.66786868, -1.26188601, -1.16792297],\n",
              "       [-0.13605514, -0.34250875,  0.27181673,  0.14162521],\n",
              "       [-0.98752606,  0.32761706, -1.43229742, -1.29887779],\n",
              "       [-0.62260995,  1.44449341, -1.26188601, -1.29887779],\n",
              "       [ 0.22886097, -1.90613563,  0.72624717,  0.40353485],\n",
              "       [-0.13605514, -0.11913348,  0.27181673,  0.01067039],\n",
              "       [-0.86588735,  1.66786868, -1.03467079, -1.03696815],\n",
              "       [-0.13605514, -0.56588402,  0.44222814,  0.14162521],\n",
              "       [-0.01441644, -0.56588402,  0.78305097,  1.58212821],\n",
              "       [-0.98752606, -0.11913348, -1.2050822 , -1.29887779],\n",
              "       [-1.71735827,  0.32761706, -1.37549362, -1.29887779],\n",
              "       [-0.98752606,  1.22111814, -1.31868981, -1.29887779],\n",
              "       [-1.23080346,  0.7743676 , -1.2050822 , -1.29887779],\n",
              "       [ 0.22886097, -0.78925928,  0.78305097,  0.53448966],\n",
              "       [-0.98752606, -1.68276036, -0.23941752, -0.25123924],\n",
              "       [-0.86588735,  1.44449341, -1.26188601, -1.03696815],\n",
              "       [ 0.35049967, -0.11913348,  0.66944336,  0.7963993 ],\n",
              "       [-1.23080346, -0.11913348, -1.31868981, -1.16792297],\n",
              "       [ 0.47213837, -0.56588402,  0.61263956,  0.7963993 ],\n",
              "       [-1.35244216,  0.32761706, -1.37549362, -1.29887779],\n",
              "       [ 1.32360929,  0.32761706,  1.1238738 ,  1.45117339],\n",
              "       [ 0.47213837,  0.7743676 ,  0.95346239,  1.45117339],\n",
              "       [-0.25769384, -0.11913348,  0.21501292,  0.14162521],\n",
              "       [ 0.83705448, -0.11913348,  1.01026619,  0.7963993 ],\n",
              "       [-0.25769384, -1.23600982,  0.10140531, -0.12028443],\n",
              "       [ 0.71541577,  0.10424179,  1.01026619,  0.7963993 ],\n",
              "       [ 1.32360929,  0.10424179,  0.78305097,  1.45117339],\n",
              "       [ 2.53999631,  1.66786868,  1.52150044,  1.05830894],\n",
              "       [ 0.71541577, -0.78925928,  0.89665858,  0.92735412],\n",
              "       [-1.23080346,  0.7743676 , -1.03467079, -1.29887779],\n",
              "       [ 2.2967189 , -1.01263455,  1.80551946,  1.45117339],\n",
              "       [ 1.08033188,  0.10424179,  0.38542434,  0.27258003],\n",
              "       [-1.35244216,  0.32761706, -1.2050822 , -1.29887779],\n",
              "       [ 0.95869318, -0.34250875,  0.49903195,  0.14162521],\n",
              "       [-0.98752606,  0.99774287, -1.2050822 , -0.77505851],\n",
              "       [ 0.22886097,  0.7743676 ,  0.44222814,  0.53448966],\n",
              "       [ 1.32360929,  0.10424179,  0.95346239,  1.18926375],\n",
              "       [-0.01441644, -1.01263455,  0.15820912,  0.01067039],\n",
              "       [-0.37933255,  2.56136975, -1.31868981, -1.29887779],\n",
              "       [ 0.83705448,  0.32761706,  0.78305097,  1.05830894],\n",
              "       [-0.13605514,  1.66786868, -1.1482784 , -1.16792297],\n",
              "       [-0.86588735, -1.23600982, -0.40982893, -0.12028443],\n",
              "       [ 1.20197058, -0.56588402,  0.61263956,  0.27258003],\n",
              "       [-0.13605514, -1.23600982,  0.72624717,  1.05830894],\n",
              "       [ 0.47213837, -1.90613563,  0.44222814,  0.40353485],\n",
              "       [ 0.59377707,  0.7743676 ,  1.06707   ,  1.58212821],\n",
              "       [ 0.59377707,  0.55099233,  1.29428522,  1.71308302],\n",
              "       [ 2.2967189 , -0.56588402,  1.69191185,  1.05830894],\n",
              "       [-0.50097125,  1.44449341, -1.26188601, -1.29887779],\n",
              "       [ 1.08033188, -0.11913348,  0.83985478,  1.45117339],\n",
              "       [-0.01441644, -0.78925928,  0.21501292, -0.25123924],\n",
              "       [-1.10916476, -0.11913348, -1.31868981, -1.29887779],\n",
              "       [ 0.59377707,  0.55099233,  0.55583575,  0.53448966],\n",
              "       [-0.25769384, -0.56588402,  0.66944336,  1.05830894],\n",
              "       [ 1.56688669, -0.11913348,  1.23748141,  1.18926375],\n",
              "       [ 0.59377707, -1.23600982,  0.66944336,  0.40353485],\n",
              "       [ 0.10722226, -0.11913348,  0.78305097,  0.7963993 ],\n",
              "       [-0.98752606,  0.99774287, -1.37549362, -1.16792297],\n",
              "       [-0.98752606,  0.7743676 , -1.2050822 , -1.03696815],\n",
              "       [-1.83899697, -0.11913348, -1.48910123, -1.4298326 ],\n",
              "       [-0.86588735,  1.66786868, -1.2050822 , -1.29887779],\n",
              "       [ 1.08033188,  0.10424179,  1.06707   ,  1.58212821],\n",
              "       [ 0.35049967, -0.56588402,  0.15820912,  0.14162521],\n",
              "       [-1.10916476,  1.22111814, -1.31868981, -1.4298326 ],\n",
              "       [ 1.68852539, -0.11913348,  1.18067761,  0.53448966],\n",
              "       [ 0.83705448, -0.11913348,  1.18067761,  1.32021857],\n",
              "       [ 0.59377707, -1.23600982,  0.72624717,  0.92735412],\n",
              "       [-0.98752606,  0.55099233, -1.31868981, -1.29887779],\n",
              "       [ 0.59377707, -0.34250875,  1.06707   ,  0.7963993 ],\n",
              "       [-0.13605514, -0.56588402,  0.21501292,  0.14162521],\n",
              "       [ 0.10722226, -0.11913348,  0.27181673,  0.40353485],\n",
              "       [-0.37933255, -1.23600982,  0.15820912,  0.14162521],\n",
              "       [-0.01441644, -0.78925928,  0.10140531,  0.01067039],\n",
              "       [ 0.83705448, -0.56588402,  0.49903195,  0.40353485],\n",
              "       [ 0.71541577,  0.32761706,  0.89665858,  1.45117339],\n",
              "       [ 1.20197058,  0.32761706,  1.23748141,  1.45117339],\n",
              "       [-0.74424865, -0.78925928,  0.10140531,  0.27258003],\n",
              "       [-1.23080346,  0.10424179, -1.2050822 , -1.29887779],\n",
              "       [ 0.71541577, -0.56588402,  1.06707   ,  1.32021857],\n",
              "       [ 0.35049967, -1.01263455,  1.06707   ,  0.27258003],\n",
              "       [-0.37933255, -1.68276036,  0.15820912,  0.14162521],\n",
              "       [-0.98752606,  0.7743676 , -1.26188601, -1.29887779],\n",
              "       [-1.10916476, -1.23600982,  0.44222814,  0.66544448],\n",
              "       [-1.71735827, -0.34250875, -1.31868981, -1.29887779],\n",
              "       [-0.86588735,  0.7743676 , -1.26188601, -1.29887779],\n",
              "       [-0.25769384, -0.11913348,  0.44222814,  0.40353485]])"
            ]
          },
          "metadata": {},
          "execution_count": 27
        }
      ]
    },
    {
      "cell_type": "code",
      "source": [
        "x_test"
      ],
      "metadata": {
        "colab": {
          "base_uri": "https://localhost:8080/"
        },
        "id": "atV6FmtocZnH",
        "outputId": "b47cbf7e-097a-48e1-c404-69b74eb14b9d"
      },
      "execution_count": 28,
      "outputs": [
        {
          "output_type": "execute_result",
          "data": {
            "text/plain": [
              "array([[6.4, 3.2, 4.5, 1.5],\n",
              "       [7.2, 3.6, 6.1, 2.5],\n",
              "       [6.1, 2.8, 4.7, 1.2],\n",
              "       [5.1, 3.5, 1.4, 0.2],\n",
              "       [4.9, 3.1, 1.5, 0.1],\n",
              "       [5.4, 3.4, 1.7, 0.2],\n",
              "       [7.3, 2.9, 6.3, 1.8],\n",
              "       [7.6, 3. , 6.6, 2.1],\n",
              "       [5.6, 2.7, 4.2, 1.3],\n",
              "       [5.1, 3.5, 1.4, 0.3],\n",
              "       [6. , 2.9, 4.5, 1.5],\n",
              "       [6.6, 3. , 4.4, 1.4],\n",
              "       [5.9, 3.2, 4.8, 1.8],\n",
              "       [6.3, 2.7, 4.9, 1.8],\n",
              "       [6.4, 2.9, 4.3, 1.3]])"
            ]
          },
          "metadata": {},
          "execution_count": 28
        }
      ]
    },
    {
      "cell_type": "code",
      "source": [
        "print(x_train.shape, y_train.shape, x_test.shape, y_test.shape)"
      ],
      "metadata": {
        "colab": {
          "base_uri": "https://localhost:8080/"
        },
        "id": "KXSe9wnscbBP",
        "outputId": "58e952a2-41ac-42f3-fd13-20d167815ecf"
      },
      "execution_count": 33,
      "outputs": [
        {
          "output_type": "stream",
          "name": "stdout",
          "text": [
            "(135, 4) (135,) (15, 4) (15,)\n"
          ]
        }
      ]
    }
  ]
}