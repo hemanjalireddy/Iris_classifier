{
  "nbformat": 4,
  "nbformat_minor": 0,
  "metadata": {
    "colab": {
      "name": "Iris_classification.ipynb",
      "provenance": [],
      "authorship_tag": "ABX9TyND6oJlza3KgEKwiTTvkI++"
    },
    "kernelspec": {
      "name": "python3",
      "display_name": "Python 3"
    },
    "language_info": {
      "name": "python"
    }
  },
  "cells": [
    {
      "cell_type": "markdown",
      "source": [
        ""
      ],
      "metadata": {
        "id": "QRY7w1b_Vj2T"
      }
    },
    {
      "cell_type": "markdown",
      "source": [
        "#Iris Classification"
      ],
      "metadata": {
        "id": "ITzIjqKwVlUB"
      }
    },
    {
      "cell_type": "markdown",
      "source": [
        "## Import the relevant libraries"
      ],
      "metadata": {
        "id": "1KTL-La-Vpv3"
      }
    },
    {
      "cell_type": "code",
      "execution_count": 2,
      "metadata": {
        "id": "Qzomt4MiVf0R"
      },
      "outputs": [],
      "source": [
        "import pandas as pd\n",
        "import tensorflow as tf\n",
        "import matplotlib.pyplot as plt\n",
        "import numpy as np\n",
        "import os"
      ]
    },
    {
      "cell_type": "markdown",
      "source": [
        "## Data Preprocessing"
      ],
      "metadata": {
        "id": "18r5XA8CV6gO"
      }
    },
    {
      "cell_type": "markdown",
      "source": [
        "### 1) Load the data"
      ],
      "metadata": {
        "id": "r3untDhPV8zJ"
      }
    },
    {
      "cell_type": "code",
      "source": [
        "iris_data = pd.read_csv('/content/iris.csv')\n",
        "iris_data.head()\n",
        "np_iris = iris_data.to_numpy()"
      ],
      "metadata": {
        "id": "nqiYsO4_V0lU"
      },
      "execution_count": 45,
      "outputs": []
    },
    {
      "cell_type": "code",
      "source": [
        "iris_data.describe()"
      ],
      "metadata": {
        "colab": {
          "base_uri": "https://localhost:8080/",
          "height": 300
        },
        "id": "7CuCpMazWqs5",
        "outputId": "eb08dae0-4384-4c7a-8e6e-ca64b4e56220"
      },
      "execution_count": 46,
      "outputs": [
        {
          "output_type": "execute_result",
          "data": {
            "text/plain": [
              "       Sepal.Length  Sepal.Width  Petal.Length  Petal.Width\n",
              "count    150.000000   150.000000    150.000000   150.000000\n",
              "mean       5.843333     3.057333      3.758000     1.199333\n",
              "std        0.828066     0.435866      1.765298     0.762238\n",
              "min        4.300000     2.000000      1.000000     0.100000\n",
              "25%        5.100000     2.800000      1.600000     0.300000\n",
              "50%        5.800000     3.000000      4.350000     1.300000\n",
              "75%        6.400000     3.300000      5.100000     1.800000\n",
              "max        7.900000     4.400000      6.900000     2.500000"
            ],
            "text/html": [
              "\n",
              "  <div id=\"df-4d306de4-c8fc-4f53-9dce-cd93cbd5f6d1\">\n",
              "    <div class=\"colab-df-container\">\n",
              "      <div>\n",
              "<style scoped>\n",
              "    .dataframe tbody tr th:only-of-type {\n",
              "        vertical-align: middle;\n",
              "    }\n",
              "\n",
              "    .dataframe tbody tr th {\n",
              "        vertical-align: top;\n",
              "    }\n",
              "\n",
              "    .dataframe thead th {\n",
              "        text-align: right;\n",
              "    }\n",
              "</style>\n",
              "<table border=\"1\" class=\"dataframe\">\n",
              "  <thead>\n",
              "    <tr style=\"text-align: right;\">\n",
              "      <th></th>\n",
              "      <th>Sepal.Length</th>\n",
              "      <th>Sepal.Width</th>\n",
              "      <th>Petal.Length</th>\n",
              "      <th>Petal.Width</th>\n",
              "    </tr>\n",
              "  </thead>\n",
              "  <tbody>\n",
              "    <tr>\n",
              "      <th>count</th>\n",
              "      <td>150.000000</td>\n",
              "      <td>150.000000</td>\n",
              "      <td>150.000000</td>\n",
              "      <td>150.000000</td>\n",
              "    </tr>\n",
              "    <tr>\n",
              "      <th>mean</th>\n",
              "      <td>5.843333</td>\n",
              "      <td>3.057333</td>\n",
              "      <td>3.758000</td>\n",
              "      <td>1.199333</td>\n",
              "    </tr>\n",
              "    <tr>\n",
              "      <th>std</th>\n",
              "      <td>0.828066</td>\n",
              "      <td>0.435866</td>\n",
              "      <td>1.765298</td>\n",
              "      <td>0.762238</td>\n",
              "    </tr>\n",
              "    <tr>\n",
              "      <th>min</th>\n",
              "      <td>4.300000</td>\n",
              "      <td>2.000000</td>\n",
              "      <td>1.000000</td>\n",
              "      <td>0.100000</td>\n",
              "    </tr>\n",
              "    <tr>\n",
              "      <th>25%</th>\n",
              "      <td>5.100000</td>\n",
              "      <td>2.800000</td>\n",
              "      <td>1.600000</td>\n",
              "      <td>0.300000</td>\n",
              "    </tr>\n",
              "    <tr>\n",
              "      <th>50%</th>\n",
              "      <td>5.800000</td>\n",
              "      <td>3.000000</td>\n",
              "      <td>4.350000</td>\n",
              "      <td>1.300000</td>\n",
              "    </tr>\n",
              "    <tr>\n",
              "      <th>75%</th>\n",
              "      <td>6.400000</td>\n",
              "      <td>3.300000</td>\n",
              "      <td>5.100000</td>\n",
              "      <td>1.800000</td>\n",
              "    </tr>\n",
              "    <tr>\n",
              "      <th>max</th>\n",
              "      <td>7.900000</td>\n",
              "      <td>4.400000</td>\n",
              "      <td>6.900000</td>\n",
              "      <td>2.500000</td>\n",
              "    </tr>\n",
              "  </tbody>\n",
              "</table>\n",
              "</div>\n",
              "      <button class=\"colab-df-convert\" onclick=\"convertToInteractive('df-4d306de4-c8fc-4f53-9dce-cd93cbd5f6d1')\"\n",
              "              title=\"Convert this dataframe to an interactive table.\"\n",
              "              style=\"display:none;\">\n",
              "        \n",
              "  <svg xmlns=\"http://www.w3.org/2000/svg\" height=\"24px\"viewBox=\"0 0 24 24\"\n",
              "       width=\"24px\">\n",
              "    <path d=\"M0 0h24v24H0V0z\" fill=\"none\"/>\n",
              "    <path d=\"M18.56 5.44l.94 2.06.94-2.06 2.06-.94-2.06-.94-.94-2.06-.94 2.06-2.06.94zm-11 1L8.5 8.5l.94-2.06 2.06-.94-2.06-.94L8.5 2.5l-.94 2.06-2.06.94zm10 10l.94 2.06.94-2.06 2.06-.94-2.06-.94-.94-2.06-.94 2.06-2.06.94z\"/><path d=\"M17.41 7.96l-1.37-1.37c-.4-.4-.92-.59-1.43-.59-.52 0-1.04.2-1.43.59L10.3 9.45l-7.72 7.72c-.78.78-.78 2.05 0 2.83L4 21.41c.39.39.9.59 1.41.59.51 0 1.02-.2 1.41-.59l7.78-7.78 2.81-2.81c.8-.78.8-2.07 0-2.86zM5.41 20L4 18.59l7.72-7.72 1.47 1.35L5.41 20z\"/>\n",
              "  </svg>\n",
              "      </button>\n",
              "      \n",
              "  <style>\n",
              "    .colab-df-container {\n",
              "      display:flex;\n",
              "      flex-wrap:wrap;\n",
              "      gap: 12px;\n",
              "    }\n",
              "\n",
              "    .colab-df-convert {\n",
              "      background-color: #E8F0FE;\n",
              "      border: none;\n",
              "      border-radius: 50%;\n",
              "      cursor: pointer;\n",
              "      display: none;\n",
              "      fill: #1967D2;\n",
              "      height: 32px;\n",
              "      padding: 0 0 0 0;\n",
              "      width: 32px;\n",
              "    }\n",
              "\n",
              "    .colab-df-convert:hover {\n",
              "      background-color: #E2EBFA;\n",
              "      box-shadow: 0px 1px 2px rgba(60, 64, 67, 0.3), 0px 1px 3px 1px rgba(60, 64, 67, 0.15);\n",
              "      fill: #174EA6;\n",
              "    }\n",
              "\n",
              "    [theme=dark] .colab-df-convert {\n",
              "      background-color: #3B4455;\n",
              "      fill: #D2E3FC;\n",
              "    }\n",
              "\n",
              "    [theme=dark] .colab-df-convert:hover {\n",
              "      background-color: #434B5C;\n",
              "      box-shadow: 0px 1px 3px 1px rgba(0, 0, 0, 0.15);\n",
              "      filter: drop-shadow(0px 1px 2px rgba(0, 0, 0, 0.3));\n",
              "      fill: #FFFFFF;\n",
              "    }\n",
              "  </style>\n",
              "\n",
              "      <script>\n",
              "        const buttonEl =\n",
              "          document.querySelector('#df-4d306de4-c8fc-4f53-9dce-cd93cbd5f6d1 button.colab-df-convert');\n",
              "        buttonEl.style.display =\n",
              "          google.colab.kernel.accessAllowed ? 'block' : 'none';\n",
              "\n",
              "        async function convertToInteractive(key) {\n",
              "          const element = document.querySelector('#df-4d306de4-c8fc-4f53-9dce-cd93cbd5f6d1');\n",
              "          const dataTable =\n",
              "            await google.colab.kernel.invokeFunction('convertToInteractive',\n",
              "                                                     [key], {});\n",
              "          if (!dataTable) return;\n",
              "\n",
              "          const docLinkHtml = 'Like what you see? Visit the ' +\n",
              "            '<a target=\"_blank\" href=https://colab.research.google.com/notebooks/data_table.ipynb>data table notebook</a>'\n",
              "            + ' to learn more about interactive tables.';\n",
              "          element.innerHTML = '';\n",
              "          dataTable['output_type'] = 'display_data';\n",
              "          await google.colab.output.renderOutput(dataTable, element);\n",
              "          const docLink = document.createElement('div');\n",
              "          docLink.innerHTML = docLinkHtml;\n",
              "          element.appendChild(docLink);\n",
              "        }\n",
              "      </script>\n",
              "    </div>\n",
              "  </div>\n",
              "  "
            ]
          },
          "metadata": {},
          "execution_count": 46
        }
      ]
    },
    {
      "cell_type": "code",
      "source": [
        "iris_data.info()"
      ],
      "metadata": {
        "colab": {
          "base_uri": "https://localhost:8080/"
        },
        "id": "1VJstOCBWuJ6",
        "outputId": "8d69743c-fdff-4b12-b163-b6b019264dd2"
      },
      "execution_count": 47,
      "outputs": [
        {
          "output_type": "stream",
          "name": "stdout",
          "text": [
            "<class 'pandas.core.frame.DataFrame'>\n",
            "RangeIndex: 150 entries, 0 to 149\n",
            "Data columns (total 5 columns):\n",
            " #   Column        Non-Null Count  Dtype  \n",
            "---  ------        --------------  -----  \n",
            " 0   Sepal.Length  150 non-null    float64\n",
            " 1   Sepal.Width   150 non-null    float64\n",
            " 2   Petal.Length  150 non-null    float64\n",
            " 3   Petal.Width   150 non-null    float64\n",
            " 4   Species       150 non-null    object \n",
            "dtypes: float64(4), object(1)\n",
            "memory usage: 6.0+ KB\n"
          ]
        }
      ]
    },
    {
      "cell_type": "code",
      "source": [
        "iris_data['Species'].unique()"
      ],
      "metadata": {
        "colab": {
          "base_uri": "https://localhost:8080/"
        },
        "id": "NGuFortXW0I2",
        "outputId": "0301de16-fddb-47ba-ab4f-7c1f46454892"
      },
      "execution_count": 48,
      "outputs": [
        {
          "output_type": "execute_result",
          "data": {
            "text/plain": [
              "array(['setosa', 'versicolor', 'virginica'], dtype=object)"
            ]
          },
          "metadata": {},
          "execution_count": 48
        }
      ]
    },
    {
      "cell_type": "markdown",
      "source": [
        "### Label encoding the categorical data"
      ],
      "metadata": {
        "id": "k769ULdHXFCy"
      }
    },
    {
      "cell_type": "code",
      "source": [
        "from sklearn import preprocessing\n",
        "label_encoder = preprocessing.LabelEncoder()\n",
        "iris_data['Species'] = label_encoder.fit_transform(\n",
        "                                iris_data['Species'])\n",
        "iris_data"
      ],
      "metadata": {
        "colab": {
          "base_uri": "https://localhost:8080/",
          "height": 424
        },
        "id": "DL95iEXNXRQp",
        "outputId": "3086bba3-a958-4cc3-c1a7-79cbadac85e7"
      },
      "execution_count": 49,
      "outputs": [
        {
          "output_type": "execute_result",
          "data": {
            "text/plain": [
              "     Sepal.Length  Sepal.Width  Petal.Length  Petal.Width  Species\n",
              "0             5.1          3.5           1.4          0.2        0\n",
              "1             4.9          3.0           1.4          0.2        0\n",
              "2             4.7          3.2           1.3          0.2        0\n",
              "3             4.6          3.1           1.5          0.2        0\n",
              "4             5.0          3.6           1.4          0.2        0\n",
              "..            ...          ...           ...          ...      ...\n",
              "145           6.7          3.0           5.2          2.3        2\n",
              "146           6.3          2.5           5.0          1.9        2\n",
              "147           6.5          3.0           5.2          2.0        2\n",
              "148           6.2          3.4           5.4          2.3        2\n",
              "149           5.9          3.0           5.1          1.8        2\n",
              "\n",
              "[150 rows x 5 columns]"
            ],
            "text/html": [
              "\n",
              "  <div id=\"df-19125568-7cd7-44fe-a15c-12579999014a\">\n",
              "    <div class=\"colab-df-container\">\n",
              "      <div>\n",
              "<style scoped>\n",
              "    .dataframe tbody tr th:only-of-type {\n",
              "        vertical-align: middle;\n",
              "    }\n",
              "\n",
              "    .dataframe tbody tr th {\n",
              "        vertical-align: top;\n",
              "    }\n",
              "\n",
              "    .dataframe thead th {\n",
              "        text-align: right;\n",
              "    }\n",
              "</style>\n",
              "<table border=\"1\" class=\"dataframe\">\n",
              "  <thead>\n",
              "    <tr style=\"text-align: right;\">\n",
              "      <th></th>\n",
              "      <th>Sepal.Length</th>\n",
              "      <th>Sepal.Width</th>\n",
              "      <th>Petal.Length</th>\n",
              "      <th>Petal.Width</th>\n",
              "      <th>Species</th>\n",
              "    </tr>\n",
              "  </thead>\n",
              "  <tbody>\n",
              "    <tr>\n",
              "      <th>0</th>\n",
              "      <td>5.1</td>\n",
              "      <td>3.5</td>\n",
              "      <td>1.4</td>\n",
              "      <td>0.2</td>\n",
              "      <td>0</td>\n",
              "    </tr>\n",
              "    <tr>\n",
              "      <th>1</th>\n",
              "      <td>4.9</td>\n",
              "      <td>3.0</td>\n",
              "      <td>1.4</td>\n",
              "      <td>0.2</td>\n",
              "      <td>0</td>\n",
              "    </tr>\n",
              "    <tr>\n",
              "      <th>2</th>\n",
              "      <td>4.7</td>\n",
              "      <td>3.2</td>\n",
              "      <td>1.3</td>\n",
              "      <td>0.2</td>\n",
              "      <td>0</td>\n",
              "    </tr>\n",
              "    <tr>\n",
              "      <th>3</th>\n",
              "      <td>4.6</td>\n",
              "      <td>3.1</td>\n",
              "      <td>1.5</td>\n",
              "      <td>0.2</td>\n",
              "      <td>0</td>\n",
              "    </tr>\n",
              "    <tr>\n",
              "      <th>4</th>\n",
              "      <td>5.0</td>\n",
              "      <td>3.6</td>\n",
              "      <td>1.4</td>\n",
              "      <td>0.2</td>\n",
              "      <td>0</td>\n",
              "    </tr>\n",
              "    <tr>\n",
              "      <th>...</th>\n",
              "      <td>...</td>\n",
              "      <td>...</td>\n",
              "      <td>...</td>\n",
              "      <td>...</td>\n",
              "      <td>...</td>\n",
              "    </tr>\n",
              "    <tr>\n",
              "      <th>145</th>\n",
              "      <td>6.7</td>\n",
              "      <td>3.0</td>\n",
              "      <td>5.2</td>\n",
              "      <td>2.3</td>\n",
              "      <td>2</td>\n",
              "    </tr>\n",
              "    <tr>\n",
              "      <th>146</th>\n",
              "      <td>6.3</td>\n",
              "      <td>2.5</td>\n",
              "      <td>5.0</td>\n",
              "      <td>1.9</td>\n",
              "      <td>2</td>\n",
              "    </tr>\n",
              "    <tr>\n",
              "      <th>147</th>\n",
              "      <td>6.5</td>\n",
              "      <td>3.0</td>\n",
              "      <td>5.2</td>\n",
              "      <td>2.0</td>\n",
              "      <td>2</td>\n",
              "    </tr>\n",
              "    <tr>\n",
              "      <th>148</th>\n",
              "      <td>6.2</td>\n",
              "      <td>3.4</td>\n",
              "      <td>5.4</td>\n",
              "      <td>2.3</td>\n",
              "      <td>2</td>\n",
              "    </tr>\n",
              "    <tr>\n",
              "      <th>149</th>\n",
              "      <td>5.9</td>\n",
              "      <td>3.0</td>\n",
              "      <td>5.1</td>\n",
              "      <td>1.8</td>\n",
              "      <td>2</td>\n",
              "    </tr>\n",
              "  </tbody>\n",
              "</table>\n",
              "<p>150 rows × 5 columns</p>\n",
              "</div>\n",
              "      <button class=\"colab-df-convert\" onclick=\"convertToInteractive('df-19125568-7cd7-44fe-a15c-12579999014a')\"\n",
              "              title=\"Convert this dataframe to an interactive table.\"\n",
              "              style=\"display:none;\">\n",
              "        \n",
              "  <svg xmlns=\"http://www.w3.org/2000/svg\" height=\"24px\"viewBox=\"0 0 24 24\"\n",
              "       width=\"24px\">\n",
              "    <path d=\"M0 0h24v24H0V0z\" fill=\"none\"/>\n",
              "    <path d=\"M18.56 5.44l.94 2.06.94-2.06 2.06-.94-2.06-.94-.94-2.06-.94 2.06-2.06.94zm-11 1L8.5 8.5l.94-2.06 2.06-.94-2.06-.94L8.5 2.5l-.94 2.06-2.06.94zm10 10l.94 2.06.94-2.06 2.06-.94-2.06-.94-.94-2.06-.94 2.06-2.06.94z\"/><path d=\"M17.41 7.96l-1.37-1.37c-.4-.4-.92-.59-1.43-.59-.52 0-1.04.2-1.43.59L10.3 9.45l-7.72 7.72c-.78.78-.78 2.05 0 2.83L4 21.41c.39.39.9.59 1.41.59.51 0 1.02-.2 1.41-.59l7.78-7.78 2.81-2.81c.8-.78.8-2.07 0-2.86zM5.41 20L4 18.59l7.72-7.72 1.47 1.35L5.41 20z\"/>\n",
              "  </svg>\n",
              "      </button>\n",
              "      \n",
              "  <style>\n",
              "    .colab-df-container {\n",
              "      display:flex;\n",
              "      flex-wrap:wrap;\n",
              "      gap: 12px;\n",
              "    }\n",
              "\n",
              "    .colab-df-convert {\n",
              "      background-color: #E8F0FE;\n",
              "      border: none;\n",
              "      border-radius: 50%;\n",
              "      cursor: pointer;\n",
              "      display: none;\n",
              "      fill: #1967D2;\n",
              "      height: 32px;\n",
              "      padding: 0 0 0 0;\n",
              "      width: 32px;\n",
              "    }\n",
              "\n",
              "    .colab-df-convert:hover {\n",
              "      background-color: #E2EBFA;\n",
              "      box-shadow: 0px 1px 2px rgba(60, 64, 67, 0.3), 0px 1px 3px 1px rgba(60, 64, 67, 0.15);\n",
              "      fill: #174EA6;\n",
              "    }\n",
              "\n",
              "    [theme=dark] .colab-df-convert {\n",
              "      background-color: #3B4455;\n",
              "      fill: #D2E3FC;\n",
              "    }\n",
              "\n",
              "    [theme=dark] .colab-df-convert:hover {\n",
              "      background-color: #434B5C;\n",
              "      box-shadow: 0px 1px 3px 1px rgba(0, 0, 0, 0.15);\n",
              "      filter: drop-shadow(0px 1px 2px rgba(0, 0, 0, 0.3));\n",
              "      fill: #FFFFFF;\n",
              "    }\n",
              "  </style>\n",
              "\n",
              "      <script>\n",
              "        const buttonEl =\n",
              "          document.querySelector('#df-19125568-7cd7-44fe-a15c-12579999014a button.colab-df-convert');\n",
              "        buttonEl.style.display =\n",
              "          google.colab.kernel.accessAllowed ? 'block' : 'none';\n",
              "\n",
              "        async function convertToInteractive(key) {\n",
              "          const element = document.querySelector('#df-19125568-7cd7-44fe-a15c-12579999014a');\n",
              "          const dataTable =\n",
              "            await google.colab.kernel.invokeFunction('convertToInteractive',\n",
              "                                                     [key], {});\n",
              "          if (!dataTable) return;\n",
              "\n",
              "          const docLinkHtml = 'Like what you see? Visit the ' +\n",
              "            '<a target=\"_blank\" href=https://colab.research.google.com/notebooks/data_table.ipynb>data table notebook</a>'\n",
              "            + ' to learn more about interactive tables.';\n",
              "          element.innerHTML = '';\n",
              "          dataTable['output_type'] = 'display_data';\n",
              "          await google.colab.output.renderOutput(dataTable, element);\n",
              "          const docLink = document.createElement('div');\n",
              "          docLink.innerHTML = docLinkHtml;\n",
              "          element.appendChild(docLink);\n",
              "        }\n",
              "      </script>\n",
              "    </div>\n",
              "  </div>\n",
              "  "
            ]
          },
          "metadata": {},
          "execution_count": 49
        }
      ]
    },
    {
      "cell_type": "markdown",
      "source": [
        "### Split into features and targets"
      ],
      "metadata": {
        "id": "O7hn6k1kXsz1"
      }
    },
    {
      "cell_type": "code",
      "source": [
        "x_data = iris_data.iloc[: , :-1]\n",
        "y_data = iris_data.iloc[: , -1]\n",
        "y_data"
      ],
      "metadata": {
        "colab": {
          "base_uri": "https://localhost:8080/"
        },
        "id": "e-JEmWEGXvxW",
        "outputId": "cc145c94-c54d-4d69-e248-4a8d3837e0cc"
      },
      "execution_count": 52,
      "outputs": [
        {
          "output_type": "execute_result",
          "data": {
            "text/plain": [
              "0      0\n",
              "1      0\n",
              "2      0\n",
              "3      0\n",
              "4      0\n",
              "      ..\n",
              "145    2\n",
              "146    2\n",
              "147    2\n",
              "148    2\n",
              "149    2\n",
              "Name: Species, Length: 150, dtype: int64"
            ]
          },
          "metadata": {},
          "execution_count": 52
        }
      ]
    },
    {
      "cell_type": "markdown",
      "source": [
        "### One hot encoding targets"
      ],
      "metadata": {
        "id": "g3PX5eT8coA8"
      }
    },
    {
      "cell_type": "code",
      "source": [
        "y_data = tf.keras.utils.to_categorical(y_data,3)\n",
        "y_data"
      ],
      "metadata": {
        "colab": {
          "base_uri": "https://localhost:8080/"
        },
        "id": "NItm3eYjcrzN",
        "outputId": "1bc0d20e-c455-42b3-9776-a3b4ad218df5"
      },
      "execution_count": 53,
      "outputs": [
        {
          "output_type": "execute_result",
          "data": {
            "text/plain": [
              "array([[1., 0., 0.],\n",
              "       [1., 0., 0.],\n",
              "       [1., 0., 0.],\n",
              "       [1., 0., 0.],\n",
              "       [1., 0., 0.],\n",
              "       [1., 0., 0.],\n",
              "       [1., 0., 0.],\n",
              "       [1., 0., 0.],\n",
              "       [1., 0., 0.],\n",
              "       [1., 0., 0.],\n",
              "       [1., 0., 0.],\n",
              "       [1., 0., 0.],\n",
              "       [1., 0., 0.],\n",
              "       [1., 0., 0.],\n",
              "       [1., 0., 0.],\n",
              "       [1., 0., 0.],\n",
              "       [1., 0., 0.],\n",
              "       [1., 0., 0.],\n",
              "       [1., 0., 0.],\n",
              "       [1., 0., 0.],\n",
              "       [1., 0., 0.],\n",
              "       [1., 0., 0.],\n",
              "       [1., 0., 0.],\n",
              "       [1., 0., 0.],\n",
              "       [1., 0., 0.],\n",
              "       [1., 0., 0.],\n",
              "       [1., 0., 0.],\n",
              "       [1., 0., 0.],\n",
              "       [1., 0., 0.],\n",
              "       [1., 0., 0.],\n",
              "       [1., 0., 0.],\n",
              "       [1., 0., 0.],\n",
              "       [1., 0., 0.],\n",
              "       [1., 0., 0.],\n",
              "       [1., 0., 0.],\n",
              "       [1., 0., 0.],\n",
              "       [1., 0., 0.],\n",
              "       [1., 0., 0.],\n",
              "       [1., 0., 0.],\n",
              "       [1., 0., 0.],\n",
              "       [1., 0., 0.],\n",
              "       [1., 0., 0.],\n",
              "       [1., 0., 0.],\n",
              "       [1., 0., 0.],\n",
              "       [1., 0., 0.],\n",
              "       [1., 0., 0.],\n",
              "       [1., 0., 0.],\n",
              "       [1., 0., 0.],\n",
              "       [1., 0., 0.],\n",
              "       [1., 0., 0.],\n",
              "       [0., 1., 0.],\n",
              "       [0., 1., 0.],\n",
              "       [0., 1., 0.],\n",
              "       [0., 1., 0.],\n",
              "       [0., 1., 0.],\n",
              "       [0., 1., 0.],\n",
              "       [0., 1., 0.],\n",
              "       [0., 1., 0.],\n",
              "       [0., 1., 0.],\n",
              "       [0., 1., 0.],\n",
              "       [0., 1., 0.],\n",
              "       [0., 1., 0.],\n",
              "       [0., 1., 0.],\n",
              "       [0., 1., 0.],\n",
              "       [0., 1., 0.],\n",
              "       [0., 1., 0.],\n",
              "       [0., 1., 0.],\n",
              "       [0., 1., 0.],\n",
              "       [0., 1., 0.],\n",
              "       [0., 1., 0.],\n",
              "       [0., 1., 0.],\n",
              "       [0., 1., 0.],\n",
              "       [0., 1., 0.],\n",
              "       [0., 1., 0.],\n",
              "       [0., 1., 0.],\n",
              "       [0., 1., 0.],\n",
              "       [0., 1., 0.],\n",
              "       [0., 1., 0.],\n",
              "       [0., 1., 0.],\n",
              "       [0., 1., 0.],\n",
              "       [0., 1., 0.],\n",
              "       [0., 1., 0.],\n",
              "       [0., 1., 0.],\n",
              "       [0., 1., 0.],\n",
              "       [0., 1., 0.],\n",
              "       [0., 1., 0.],\n",
              "       [0., 1., 0.],\n",
              "       [0., 1., 0.],\n",
              "       [0., 1., 0.],\n",
              "       [0., 1., 0.],\n",
              "       [0., 1., 0.],\n",
              "       [0., 1., 0.],\n",
              "       [0., 1., 0.],\n",
              "       [0., 1., 0.],\n",
              "       [0., 1., 0.],\n",
              "       [0., 1., 0.],\n",
              "       [0., 1., 0.],\n",
              "       [0., 1., 0.],\n",
              "       [0., 1., 0.],\n",
              "       [0., 1., 0.],\n",
              "       [0., 0., 1.],\n",
              "       [0., 0., 1.],\n",
              "       [0., 0., 1.],\n",
              "       [0., 0., 1.],\n",
              "       [0., 0., 1.],\n",
              "       [0., 0., 1.],\n",
              "       [0., 0., 1.],\n",
              "       [0., 0., 1.],\n",
              "       [0., 0., 1.],\n",
              "       [0., 0., 1.],\n",
              "       [0., 0., 1.],\n",
              "       [0., 0., 1.],\n",
              "       [0., 0., 1.],\n",
              "       [0., 0., 1.],\n",
              "       [0., 0., 1.],\n",
              "       [0., 0., 1.],\n",
              "       [0., 0., 1.],\n",
              "       [0., 0., 1.],\n",
              "       [0., 0., 1.],\n",
              "       [0., 0., 1.],\n",
              "       [0., 0., 1.],\n",
              "       [0., 0., 1.],\n",
              "       [0., 0., 1.],\n",
              "       [0., 0., 1.],\n",
              "       [0., 0., 1.],\n",
              "       [0., 0., 1.],\n",
              "       [0., 0., 1.],\n",
              "       [0., 0., 1.],\n",
              "       [0., 0., 1.],\n",
              "       [0., 0., 1.],\n",
              "       [0., 0., 1.],\n",
              "       [0., 0., 1.],\n",
              "       [0., 0., 1.],\n",
              "       [0., 0., 1.],\n",
              "       [0., 0., 1.],\n",
              "       [0., 0., 1.],\n",
              "       [0., 0., 1.],\n",
              "       [0., 0., 1.],\n",
              "       [0., 0., 1.],\n",
              "       [0., 0., 1.],\n",
              "       [0., 0., 1.],\n",
              "       [0., 0., 1.],\n",
              "       [0., 0., 1.],\n",
              "       [0., 0., 1.],\n",
              "       [0., 0., 1.],\n",
              "       [0., 0., 1.],\n",
              "       [0., 0., 1.],\n",
              "       [0., 0., 1.],\n",
              "       [0., 0., 1.],\n",
              "       [0., 0., 1.]], dtype=float32)"
            ]
          },
          "metadata": {},
          "execution_count": 53
        }
      ]
    },
    {
      "cell_type": "markdown",
      "source": [
        "## Splitting into train and test set"
      ],
      "metadata": {
        "id": "XAdGJnZnbXws"
      }
    },
    {
      "cell_type": "code",
      "source": [
        "from sklearn.model_selection import train_test_split\n",
        "x_train,x_test,y_train,y_test = train_test_split( x_data, y_data, test_size=0.10)"
      ],
      "metadata": {
        "id": "pLTHc8Mqbayb"
      },
      "execution_count": 54,
      "outputs": []
    },
    {
      "cell_type": "markdown",
      "source": [
        "## Feature Scaling"
      ],
      "metadata": {
        "id": "DtaoR-0ubKxs"
      }
    },
    {
      "cell_type": "code",
      "source": [
        "from sklearn.preprocessing import StandardScaler\n",
        "scaler = StandardScaler()\n",
        "x_train = scaler.fit_transform(x_train)\n",
        "x_test = scaler.transform(x_test)"
      ],
      "metadata": {
        "id": "MZzIpldAbL72"
      },
      "execution_count": 55,
      "outputs": []
    },
    {
      "cell_type": "code",
      "source": [
        "x_train"
      ],
      "metadata": {
        "colab": {
          "base_uri": "https://localhost:8080/"
        },
        "id": "tve5LHZocYbh",
        "outputId": "bc2206ca-d065-41e4-c35e-f58fd9f39a2a"
      },
      "execution_count": 56,
      "outputs": [
        {
          "output_type": "execute_result",
          "data": {
            "text/plain": [
              "array([[-4.11938161e-01, -1.53203545e+00,  4.42161684e-02,\n",
              "        -1.33266731e-01],\n",
              "       [-5.36908165e-01, -1.71346070e-01,  4.45988084e-01,\n",
              "         3.88211780e-01],\n",
              "       [ 8.37761878e-01, -1.71346070e-01,  8.47759999e-01,\n",
              "         1.04005992e+00],\n",
              "       [-2.86968157e-01, -1.71346070e-01,  2.16404132e-01,\n",
              "         1.27472525e-01],\n",
              "       [ 2.12911859e-01, -1.98559858e+00,  1.59008144e-01,\n",
              "        -2.63636358e-01],\n",
              "       [-1.16175818e+00,  1.18934331e+00, -1.33328754e+00,\n",
              "        -1.43696301e+00],\n",
              "       [-7.86848173e-01, -8.51690761e-01,  1.01612156e-01,\n",
              "         2.57842153e-01],\n",
              "       [-1.61998153e-01, -3.98127634e-01,  2.73800120e-01,\n",
              "         1.27472525e-01],\n",
              "       [-1.66163820e+00, -1.75881702e+00, -1.39068353e+00,\n",
              "        -1.17622375e+00],\n",
              "       [ 2.33740193e+00, -1.71346070e-01,  1.36432389e+00,\n",
              "         1.43116880e+00],\n",
              "       [-9.11818177e-01,  1.64290644e+00, -1.04630760e+00,\n",
              "        -1.04585412e+00],\n",
              "       [-1.03678818e+00,  9.62561748e-01, -1.21849556e+00,\n",
              "        -7.85114869e-01],\n",
              "       [ 3.37881863e-01, -6.24909197e-01,  5.60780059e-01,\n",
              "        -2.89710284e-03],\n",
              "       [-1.16175818e+00, -1.71346070e-01, -1.33328754e+00,\n",
              "        -1.30659338e+00],\n",
              "       [-1.03678818e+00,  5.08998621e-01, -1.33328754e+00,\n",
              "        -1.30659338e+00],\n",
              "       [-4.11938161e-01,  2.55003269e+00, -1.33328754e+00,\n",
              "        -1.30659338e+00],\n",
              "       [-3.70281493e-02, -1.07847232e+00,  1.59008144e-01,\n",
              "        -2.89710284e-03],\n",
              "       [ 7.12791874e-01, -8.51690761e-01,  9.05155987e-01,\n",
              "         9.09690292e-01],\n",
              "       [-1.61998153e-01, -1.30525389e+00,  7.32968023e-01,\n",
              "         1.04005992e+00],\n",
              "       [-9.11818177e-01,  1.64290644e+00, -1.21849556e+00,\n",
              "        -1.30659338e+00],\n",
              "       [ 1.21267189e+00,  2.82217057e-01,  1.24953191e+00,\n",
              "         1.43116880e+00],\n",
              "       [-2.86968157e-01, -6.24909197e-01,  6.75572035e-01,\n",
              "         1.04005992e+00],\n",
              "       [-1.61998153e-01, -6.24909197e-01,  2.16404132e-01,\n",
              "         1.27472525e-01],\n",
              "       [ 5.87821870e-01,  5.08998621e-01,  1.30692790e+00,\n",
              "         1.69190806e+00],\n",
              "       [-3.70281493e-02,  2.09646957e+00, -1.44807952e+00,\n",
              "        -1.30659338e+00],\n",
              "       [ 1.08770189e+00,  5.54354933e-02,  5.60780059e-01,\n",
              "         3.88211780e-01],\n",
              "       [ 2.12911859e-01, -3.98127634e-01,  4.45988084e-01,\n",
              "         3.88211780e-01],\n",
              "       [ 1.58758190e+00, -1.71346070e-01,  1.24953191e+00,\n",
              "         1.17042955e+00],\n",
              "       [ 1.21267189e+00, -1.71346070e-01,  1.01994796e+00,\n",
              "         1.17042955e+00],\n",
              "       [-1.41169819e+00,  2.82217057e-01, -1.39068353e+00,\n",
              "        -1.30659338e+00],\n",
              "       [ 5.87821870e-01, -3.98127634e-01,  1.07734395e+00,\n",
              "         7.79320664e-01],\n",
              "       [ 5.87821870e-01, -8.51690761e-01,  6.75572035e-01,\n",
              "         7.79320664e-01],\n",
              "       [-3.70281493e-02, -8.51690761e-01,  7.90364011e-01,\n",
              "         9.09690292e-01],\n",
              "       [-4.11938161e-01, -1.75881702e+00,  1.59008144e-01,\n",
              "         1.27472525e-01],\n",
              "       [-1.78660820e+00,  2.82217057e-01, -1.39068353e+00,\n",
              "        -1.30659338e+00],\n",
              "       [-5.36908165e-01,  7.35780184e-01, -1.16109958e+00,\n",
              "        -1.30659338e+00],\n",
              "       [-9.11818177e-01, -1.30525389e+00, -4.14951735e-01,\n",
              "        -1.33266731e-01],\n",
              "       [ 8.37761878e-01,  2.82217057e-01,  7.90364011e-01,\n",
              "         1.04005992e+00],\n",
              "       [ 1.33764189e+00,  5.54354933e-02,  9.62551975e-01,\n",
              "         1.17042955e+00],\n",
              "       [ 2.33740193e+00,  1.64290644e+00,  1.70869982e+00,\n",
              "         1.30079917e+00],\n",
              "       [-5.36908165e-01,  1.86968800e+00, -1.16109958e+00,\n",
              "        -1.04585412e+00],\n",
              "       [-9.11818177e-01,  1.64290644e+00, -1.27589155e+00,\n",
              "        -1.17622375e+00],\n",
              "       [ 1.71255191e+00,  1.18934331e+00,  1.36432389e+00,\n",
              "         1.69190806e+00],\n",
              "       [ 5.87821870e-01,  7.35780184e-01,  1.07734395e+00,\n",
              "         1.56153843e+00],\n",
              "       [-1.61998153e-01, -1.07847232e+00, -1.27971795e-01,\n",
              "        -2.63636358e-01],\n",
              "       [-1.03678818e+00, -1.75881702e+00, -2.42763771e-01,\n",
              "        -2.63636358e-01],\n",
              "       [-7.86848173e-01,  9.62561748e-01, -1.27589155e+00,\n",
              "        -1.30659338e+00],\n",
              "       [-3.70281493e-02, -8.51690761e-01,  2.16404132e-01,\n",
              "        -2.63636358e-01],\n",
              "       [ 2.12911859e-01, -8.51690761e-01,  7.90364011e-01,\n",
              "         5.18581408e-01],\n",
              "       [ 3.37881863e-01, -6.24909197e-01,  1.59008144e-01,\n",
              "         1.27472525e-01],\n",
              "       [ 9.62731882e-01, -3.98127634e-01,  5.03384072e-01,\n",
              "         1.27472525e-01],\n",
              "       [-1.28672819e+00,  7.35780184e-01, -1.21849556e+00,\n",
              "        -1.30659338e+00],\n",
              "       [-1.16175818e+00, -1.53203545e+00, -2.42763771e-01,\n",
              "        -2.63636358e-01],\n",
              "       [-1.28672819e+00,  7.35780184e-01, -1.04630760e+00,\n",
              "        -1.30659338e+00],\n",
              "       [-1.03678818e+00,  7.35780184e-01, -1.27589155e+00,\n",
              "        -1.30659338e+00],\n",
              "       [-9.11818177e-01,  9.62561748e-01, -1.33328754e+00,\n",
              "        -1.30659338e+00],\n",
              "       [-4.11938161e-01, -1.07847232e+00,  3.88592096e-01,\n",
              "        -2.89710284e-03],\n",
              "       [-3.70281493e-02, -8.51690761e-01,  7.90364011e-01,\n",
              "         9.09690292e-01],\n",
              "       [ 1.08770189e+00,  5.54354933e-02,  3.88592096e-01,\n",
              "         2.57842153e-01],\n",
              "       [ 7.12791874e-01,  2.82217057e-01,  4.45988084e-01,\n",
              "         3.88211780e-01],\n",
              "       [ 1.08770189e+00,  5.08998621e-01,  1.13473994e+00,\n",
              "         1.17042955e+00],\n",
              "       [ 2.58734193e+00,  1.64290644e+00,  1.53651185e+00,\n",
              "         1.04005992e+00],\n",
              "       [-1.03678818e+00,  2.82217057e-01, -1.44807952e+00,\n",
              "        -1.30659338e+00],\n",
              "       [-1.16175818e+00,  5.54354933e-02, -1.27589155e+00,\n",
              "        -1.43696301e+00],\n",
              "       [ 1.08770189e+00, -1.71346070e-01,  7.32968023e-01,\n",
              "         6.48951036e-01],\n",
              "       [-1.53666820e+00,  5.54354933e-02, -1.27589155e+00,\n",
              "        -1.30659338e+00],\n",
              "       [-1.03678818e+00, -2.43916171e+00, -1.27971795e-01,\n",
              "        -2.63636358e-01],\n",
              "       [-1.78660820e+00, -3.98127634e-01, -1.33328754e+00,\n",
              "        -1.30659338e+00],\n",
              "       [ 1.33764189e+00,  2.82217057e-01,  1.13473994e+00,\n",
              "         1.43116880e+00],\n",
              "       [ 7.12791874e-01, -3.98127634e-01,  3.31196108e-01,\n",
              "         1.27472525e-01],\n",
              "       [ 7.12791874e-01, -6.24909197e-01,  1.07734395e+00,\n",
              "         1.30079917e+00],\n",
              "       [ 1.08770189e+00,  5.08998621e-01,  1.13473994e+00,\n",
              "         1.69190806e+00],\n",
              "       [ 1.96249191e+00, -6.24909197e-01,  1.36432389e+00,\n",
              "         9.09690292e-01],\n",
              "       [-1.28672819e+00, -1.71346070e-01, -1.33328754e+00,\n",
              "        -1.43696301e+00],\n",
              "       [-1.16175818e+00,  5.54354933e-02, -1.27589155e+00,\n",
              "        -1.30659338e+00],\n",
              "       [-1.53666820e+00,  7.35780184e-01, -1.33328754e+00,\n",
              "        -1.17622375e+00],\n",
              "       [-1.61998153e-01,  3.00359582e+00, -1.27589155e+00,\n",
              "        -1.04585412e+00],\n",
              "       [-3.70281493e-02, -6.24909197e-01,  7.90364011e-01,\n",
              "         1.56153843e+00],\n",
              "       [ 5.87821870e-01, -1.30525389e+00,  7.32968023e-01,\n",
              "         9.09690292e-01],\n",
              "       [ 3.37881863e-01, -1.71346070e-01,  5.03384072e-01,\n",
              "         2.57842153e-01],\n",
              "       [-7.86848173e-01,  2.32325113e+00, -1.27589155e+00,\n",
              "        -1.43696301e+00],\n",
              "       [ 3.37881863e-01, -3.98127634e-01,  5.60780059e-01,\n",
              "         2.57842153e-01],\n",
              "       [-4.11938161e-01,  9.62561748e-01, -1.39068353e+00,\n",
              "        -1.30659338e+00],\n",
              "       [ 4.62851866e-01,  7.35780184e-01,  9.62551975e-01,\n",
              "         1.43116880e+00],\n",
              "       [ 4.62851866e-01, -6.24909197e-01,  6.18176047e-01,\n",
              "         7.79320664e-01],\n",
              "       [ 8.37761878e-01, -1.71346070e-01,  1.19213593e+00,\n",
              "         1.30079917e+00],\n",
              "       [-1.78660820e+00, -1.71346070e-01, -1.39068353e+00,\n",
              "        -1.30659338e+00],\n",
              "       [-2.86968157e-01, -1.30525389e+00,  1.01612156e-01,\n",
              "        -1.33266731e-01],\n",
              "       [-1.28672819e+00, -1.71346070e-01, -1.33328754e+00,\n",
              "        -1.17622375e+00],\n",
              "       [ 2.12911859e-01,  7.35780184e-01,  4.45988084e-01,\n",
              "         5.18581408e-01],\n",
              "       [ 8.79418546e-02,  2.82217057e-01,  6.18176047e-01,\n",
              "         7.79320664e-01],\n",
              "       [ 1.08770189e+00,  5.54354933e-02,  1.07734395e+00,\n",
              "         1.56153843e+00],\n",
              "       [ 1.71255191e+00, -1.71346070e-01,  1.19213593e+00,\n",
              "         5.18581408e-01],\n",
              "       [ 5.87821870e-01, -6.24909197e-01,  7.90364011e-01,\n",
              "         3.88211780e-01],\n",
              "       [-1.61998153e-01,  1.64290644e+00, -1.16109958e+00,\n",
              "        -1.17622375e+00],\n",
              "       [-9.11818177e-01,  1.41612487e+00, -1.27589155e+00,\n",
              "        -1.04585412e+00],\n",
              "       [-1.61998153e-01, -6.24909197e-01,  4.45988084e-01,\n",
              "         1.27472525e-01],\n",
              "       [ 2.12911859e-01, -1.71346070e-01,  6.18176047e-01,\n",
              "         7.79320664e-01],\n",
              "       [-4.11938161e-01, -1.30525389e+00,  1.59008144e-01,\n",
              "         1.27472525e-01],\n",
              "       [-5.36908165e-01,  7.35780184e-01, -1.27589155e+00,\n",
              "        -1.04585412e+00],\n",
              "       [ 8.37761878e-01, -1.71346070e-01,  1.01994796e+00,\n",
              "         7.79320664e-01],\n",
              "       [ 2.12911859e-01, -1.98559858e+00,  7.32968023e-01,\n",
              "         3.88211780e-01],\n",
              "       [-1.53666820e+00,  2.82217057e-01, -1.33328754e+00,\n",
              "        -1.30659338e+00],\n",
              "       [ 2.33740193e+00, -6.24909197e-01,  1.70869982e+00,\n",
              "         1.04005992e+00],\n",
              "       [-2.86968157e-01, -1.71346070e-01,  4.45988084e-01,\n",
              "         3.88211780e-01],\n",
              "       [-2.86968157e-01, -3.98127634e-01, -7.05758073e-02,\n",
              "         1.27472525e-01],\n",
              "       [-1.16175818e+00, -1.30525389e+00,  4.45988084e-01,\n",
              "         6.48951036e-01],\n",
              "       [ 5.87821870e-01, -1.30525389e+00,  6.75572035e-01,\n",
              "         3.88211780e-01],\n",
              "       [ 3.37881863e-01, -1.71346070e-01,  6.75572035e-01,\n",
              "         7.79320664e-01],\n",
              "       [-6.61878169e-01,  1.41612487e+00, -1.27589155e+00,\n",
              "        -1.30659338e+00],\n",
              "       [ 4.62851866e-01, -1.98559858e+00,  4.45988084e-01,\n",
              "         3.88211780e-01],\n",
              "       [-1.03678818e+00, -1.71346070e-01, -1.21849556e+00,\n",
              "        -1.30659338e+00],\n",
              "       [ 8.79418546e-02, -1.71346070e-01,  2.73800120e-01,\n",
              "         3.88211780e-01],\n",
              "       [ 1.33764189e+00,  5.54354933e-02,  7.90364011e-01,\n",
              "         1.43116880e+00],\n",
              "       [-5.36908165e-01,  1.86968800e+00, -1.39068353e+00,\n",
              "        -1.04585412e+00],\n",
              "       [ 1.08770189e+00, -1.71346070e-01,  8.47759999e-01,\n",
              "         1.43116880e+00],\n",
              "       [ 5.87821870e-01,  5.08998621e-01,  5.60780059e-01,\n",
              "         5.18581408e-01],\n",
              "       [-7.86848173e-01,  7.35780184e-01, -1.33328754e+00,\n",
              "        -1.30659338e+00],\n",
              "       [-1.03678818e+00,  9.62561748e-01, -1.39068353e+00,\n",
              "        -1.17622375e+00],\n",
              "       [ 1.21267189e+00, -6.24909197e-01,  6.18176047e-01,\n",
              "         2.57842153e-01],\n",
              "       [-2.86968157e-01, -8.51690761e-01,  2.73800120e-01,\n",
              "         1.27472525e-01],\n",
              "       [ 8.79418546e-02, -1.71346070e-01,  7.90364011e-01,\n",
              "         7.79320664e-01],\n",
              "       [ 7.12791874e-01,  2.82217057e-01,  9.05155987e-01,\n",
              "         1.43116880e+00],\n",
              "       [ 1.08770189e+00, -1.30525389e+00,  1.19213593e+00,\n",
              "         7.79320664e-01],\n",
              "       [ 1.46261190e+00,  2.82217057e-01,  5.60780059e-01,\n",
              "         2.57842153e-01],\n",
              "       [ 7.12791874e-01,  5.54354933e-02,  1.01994796e+00,\n",
              "         7.79320664e-01],\n",
              "       [-5.36908165e-01,  1.41612487e+00, -1.27589155e+00,\n",
              "        -1.30659338e+00],\n",
              "       [-1.03678818e+00,  7.35780184e-01, -1.21849556e+00,\n",
              "        -1.04585412e+00],\n",
              "       [-9.11818177e-01,  5.08998621e-01, -1.16109958e+00,\n",
              "        -9.15484497e-01],\n",
              "       [ 8.37761878e-01, -6.24909197e-01,  5.03384072e-01,\n",
              "         3.88211780e-01],\n",
              "       [ 9.62731882e-01, -1.71346070e-01,  3.88592096e-01,\n",
              "         2.57842153e-01],\n",
              "       [-9.11818177e-01,  7.35780184e-01, -1.27589155e+00,\n",
              "        -1.30659338e+00],\n",
              "       [ 2.21243192e+00, -1.71346070e-01,  1.65130383e+00,\n",
              "         1.17042955e+00],\n",
              "       [-1.03678818e+00,  1.18934331e+00, -1.33328754e+00,\n",
              "        -1.30659338e+00],\n",
              "       [-9.11818177e-01,  9.62561748e-01, -1.33328754e+00,\n",
              "        -1.17622375e+00]])"
            ]
          },
          "metadata": {},
          "execution_count": 56
        }
      ]
    },
    {
      "cell_type": "code",
      "source": [
        "x_test"
      ],
      "metadata": {
        "colab": {
          "base_uri": "https://localhost:8080/"
        },
        "id": "atV6FmtocZnH",
        "outputId": "6423ff93-37bb-469c-b83e-7ffe7476dac5"
      },
      "execution_count": 57,
      "outputs": [
        {
          "output_type": "execute_result",
          "data": {
            "text/plain": [
              "array([[ 0.58782187, -1.75881702,  0.3885921 ,  0.12747252],\n",
              "       [-1.28672819,  0.05543549, -1.21849556, -1.30659338],\n",
              "       [-1.5366682 ,  1.18934331, -1.56287149, -1.30659338],\n",
              "       [-0.41193816, -1.53203545, -0.01317982, -0.26363636],\n",
              "       [ 1.71255191,  0.28221706,  1.3069279 ,  0.77932066],\n",
              "       [ 1.33764189,  0.05543549,  0.67557204,  0.38821178],\n",
              "       [ 1.83752191, -0.39812763,  1.47911587,  0.77932066],\n",
              "       [-1.41169819,  0.28221706, -1.21849556, -1.30659338],\n",
              "       [ 0.71279187, -0.6249092 ,  1.07734395,  1.17042955],\n",
              "       [ 0.33788186, -1.07847232,  1.07734395,  0.25784215],\n",
              "       [-1.91157821, -0.17134607, -1.5054755 , -1.43696301],\n",
              "       [-0.16199815, -0.17134607,  0.27380012, -0.0028971 ],\n",
              "       [-0.03702815, -0.85169076,  0.10161216, -0.0028971 ],\n",
              "       [ 0.46285187, -0.39812763,  0.33119611,  0.12747252],\n",
              "       [ 2.33740193, -1.07847232,  1.82349179,  1.4311688 ]])"
            ]
          },
          "metadata": {},
          "execution_count": 57
        }
      ]
    },
    {
      "cell_type": "code",
      "source": [
        "print(x_train.shape, y_train.shape, x_test.shape, y_test.shape)"
      ],
      "metadata": {
        "colab": {
          "base_uri": "https://localhost:8080/"
        },
        "id": "KXSe9wnscbBP",
        "outputId": "58e952a2-41ac-42f3-fd13-20d167815ecf"
      },
      "execution_count": 33,
      "outputs": [
        {
          "output_type": "stream",
          "name": "stdout",
          "text": [
            "(135, 4) (135,) (15, 4) (15,)\n"
          ]
        }
      ]
    },
    {
      "cell_type": "markdown",
      "source": [
        "### 4.3. Creating a Model\n",
        "\n",
        "Creating a model in Keras requires defining the following\n",
        "\n",
        "1. Number of hidden layers\n",
        "2. Number of nodes in each layer\n",
        "3. Activation functions\n",
        "4. Loss Function & Accuracy measurements"
      ],
      "metadata": {
        "id": "80nZ7qrLd8Ng"
      }
    },
    {
      "cell_type": "code",
      "source": [
        "from tensorflow import keras\n",
        "from tensorflow.keras import layers\n",
        "\n",
        "classes = 3\n",
        "\n",
        "model = keras.Sequential([\n",
        "        layers.Dense(128 , input_shape = (4,) , name='Hidden_layer1' , activation = 'relu') ,\n",
        "        layers.Dense(128,name='Hidden-Layer-2' , activation='relu'),\n",
        "        layers.Dense(classes , name='Output-Layer' , activation='softmax')\n",
        "        \n",
        "])\n",
        "\n",
        "model.compile(loss='categorical_crossentropy',\n",
        "              metrics=['accuracy'])\n",
        "\n",
        "model.summary()"
      ],
      "metadata": {
        "colab": {
          "base_uri": "https://localhost:8080/"
        },
        "id": "RQQIW8fNd-q3",
        "outputId": "006f17d2-4dfd-4fec-808f-dfda6c7ac81f"
      },
      "execution_count": 58,
      "outputs": [
        {
          "output_type": "stream",
          "name": "stdout",
          "text": [
            "Model: \"sequential_5\"\n",
            "_________________________________________________________________\n",
            " Layer (type)                Output Shape              Param #   \n",
            "=================================================================\n",
            " Hidden_layer1 (Dense)       (None, 128)               640       \n",
            "                                                                 \n",
            " Hidden-Layer-2 (Dense)      (None, 128)               16512     \n",
            "                                                                 \n",
            " Output-Layer (Dense)        (None, 3)                 387       \n",
            "                                                                 \n",
            "=================================================================\n",
            "Total params: 17,539\n",
            "Trainable params: 17,539\n",
            "Non-trainable params: 0\n",
            "_________________________________________________________________\n"
          ]
        }
      ]
    },
    {
      "cell_type": "markdown",
      "source": [
        "## Training and evaluation"
      ],
      "metadata": {
        "id": "3jcL7AoWgALJ"
      }
    },
    {
      "cell_type": "code",
      "source": [
        "history = model.fit (x_train , y_train , batch_size = 16 ,epochs = 10 ,  validation_split = 0.2)\n",
        "\n",
        "print(\"\\nAccuracy during Training :\\n------------------------------------\")\n",
        "pd.DataFrame(history.history)[\"accuracy\"].plot(figsize=(8, 5))\n",
        "plt.title(\"Accuracy improvements with Epoch\")\n",
        "plt.show()\n",
        "print(\"\\nEvaluation against Test Dataset :\\n------------------------------------\")\n",
        "model.evaluate(x_test,y_test)"
      ],
      "metadata": {
        "colab": {
          "base_uri": "https://localhost:8080/",
          "height": 822
        },
        "id": "X3Bi85H5gB8H",
        "outputId": "3d687d24-734b-431d-f58a-0a678a79c2b8"
      },
      "execution_count": 59,
      "outputs": [
        {
          "output_type": "stream",
          "name": "stdout",
          "text": [
            "Epoch 1/10\n",
            "7/7 [==============================] - 1s 35ms/step - loss: 0.8105 - accuracy: 0.7222 - val_loss: 0.6059 - val_accuracy: 0.7778\n",
            "Epoch 2/10\n",
            "7/7 [==============================] - 0s 7ms/step - loss: 0.5391 - accuracy: 0.8241 - val_loss: 0.4658 - val_accuracy: 0.7778\n",
            "Epoch 3/10\n",
            "7/7 [==============================] - 0s 6ms/step - loss: 0.4297 - accuracy: 0.8426 - val_loss: 0.3934 - val_accuracy: 0.7778\n",
            "Epoch 4/10\n",
            "7/7 [==============================] - 0s 6ms/step - loss: 0.3714 - accuracy: 0.8426 - val_loss: 0.3413 - val_accuracy: 0.7778\n",
            "Epoch 5/10\n",
            "7/7 [==============================] - 0s 6ms/step - loss: 0.3346 - accuracy: 0.8426 - val_loss: 0.3061 - val_accuracy: 0.8148\n",
            "Epoch 6/10\n",
            "7/7 [==============================] - 0s 6ms/step - loss: 0.3031 - accuracy: 0.8796 - val_loss: 0.2999 - val_accuracy: 0.7778\n",
            "Epoch 7/10\n",
            "7/7 [==============================] - 0s 6ms/step - loss: 0.2789 - accuracy: 0.8796 - val_loss: 0.2664 - val_accuracy: 0.8148\n",
            "Epoch 8/10\n",
            "7/7 [==============================] - 0s 7ms/step - loss: 0.2626 - accuracy: 0.8981 - val_loss: 0.2468 - val_accuracy: 0.8519\n",
            "Epoch 9/10\n",
            "7/7 [==============================] - 0s 6ms/step - loss: 0.2389 - accuracy: 0.8981 - val_loss: 0.2287 - val_accuracy: 0.8889\n",
            "Epoch 10/10\n",
            "7/7 [==============================] - 0s 6ms/step - loss: 0.2259 - accuracy: 0.9167 - val_loss: 0.2226 - val_accuracy: 0.8889\n",
            "\n",
            "Accuracy during Training :\n",
            "------------------------------------\n"
          ]
        },
        {
          "output_type": "display_data",
          "data": {
            "text/plain": [
              "<Figure size 576x360 with 1 Axes>"
            ],
            "image/png": "[encoded data removed]"
          },
          "metadata": {
            "needs_background": "light"
          }
        },
        {
          "output_type": "stream",
          "name": "stdout",
          "text": [
            "\n",
            "Evaluation against Test Dataset :\n",
            "------------------------------------\n",
            "1/1 [==============================] - 0s 19ms/step - loss: 0.2178 - accuracy: 0.8667\n"
          ]
        },
        {
          "output_type": "execute_result",
          "data": {
            "text/plain": [
              "[0.2177976667881012, 0.8666666746139526]"
            ]
          },
          "metadata": {},
          "execution_count": 59
        }
      ]
    },
    {
      "cell_type": "markdown",
      "source": [
        "## Prediction with model"
      ],
      "metadata": {
        "id": "q4aK-9_tj20a"
      }
    },
    {
      "cell_type": "code",
      "source": [
        "prediction_input = [[6.6, 3. , 4.4, 1.4]]\n",
        "\n",
        "#Scale prediction data with the same scaling model\n",
        "scaled_input = scaler.transform(prediction_input)\n",
        "\n",
        "#Get raw prediction probabilities\n",
        "raw_prediction = model.predict(scaled_input)\n",
        "print(\"Raw Prediction Output (Probabilities) :\" , raw_prediction)\n",
        "\n",
        "#Find prediction\n",
        "prediction = np.argmax(raw_prediction)\n",
        "print(\"Prediction is \", label_encoder.inverse_transform([prediction]))"
      ],
      "metadata": {
        "colab": {
          "base_uri": "https://localhost:8080/"
        },
        "id": "ZRnSk1Qyj6M7",
        "outputId": "85403686-d9c1-4ecc-9a8c-c0213b1538ad"
      },
      "execution_count": 60,
      "outputs": [
        {
          "output_type": "stream",
          "name": "stdout",
          "text": [
            "Raw Prediction Output (Probabilities) : [[0.0182822  0.5569503  0.42476752]]\n",
            "Prediction is  ['versicolor']\n"
          ]
        },
        {
          "output_type": "stream",
          "name": "stderr",
          "text": [
            "/usr/local/lib/python3.7/dist-packages/sklearn/base.py:451: UserWarning: X does not have valid feature names, but StandardScaler was fitted with feature names\n",
            "  \"X does not have valid feature names, but\"\n"
          ]
        }
      ]
    }
  ]
}